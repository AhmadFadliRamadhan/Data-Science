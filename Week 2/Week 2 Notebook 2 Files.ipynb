{
 "cells": [
  {
   "cell_type": "markdown",
   "id": "292c0605",
   "metadata": {},
   "source": [
    "Ahmad Fadli Ramadhan | E1E121019\n",
    "\n",
    "# Week 2 Notebook 2 Files\n",
    "\n",
    "## Exercise\n",
    "\n",
    "Write the code to open the 'invoices.csv' file for reading, and then print only the heading 'Invoice No' and the data for the invoice numbers.\n",
    "\n",
    "Use the following comments to guide you"
   ]
  },
  {
   "cell_type": "code",
   "execution_count": 1,
   "id": "57fbc0fb",
   "metadata": {},
   "outputs": [
    {
     "name": "stdout",
     "output_type": "stream",
     "text": [
      "Invoice No, Customer Name, Date, Invoice Amount\n",
      "\n",
      "Invoice No\n",
      "13002\n",
      "13003\n",
      "13003\n",
      "13004\n"
     ]
    }
   ],
   "source": [
    "# open the file for reading\n",
    "\n",
    "invoices = open('invoices.csv', 'r')\n",
    "\n",
    "# read all the lines\n",
    "\n",
    "lines = invoices.readlines()\n",
    "\n",
    "# header is the first element in the list of lines\n",
    "\n",
    "header = lines[0]\n",
    "print(header)\n",
    "\n",
    "# use a split() function to separate the header names by the comma\n",
    "\n",
    "resultSplit = header.split(', ')\n",
    "\n",
    "# print the first element of the header names after splitting\n",
    "\n",
    "print(resultSplit[0])\n",
    "\n",
    "# use a for loop (with a slice starting at index 1) for the rest of the lines\n",
    "\n",
    "for line in lines[1:]:\n",
    "    \n",
    "    # split at the comma\n",
    "    \n",
    "    split = line.split(', ')\n",
    "    \n",
    "    # print the first element\n",
    "    \n",
    "    print(split[0])\n",
    "                  \n",
    "    \n",
    "# close the file\n",
    "\n",
    "invoices.close()"
   ]
  }
 ],
 "metadata": {
  "kernelspec": {
   "display_name": "Python 3 (ipykernel)",
   "language": "python",
   "name": "python3"
  },
  "language_info": {
   "codemirror_mode": {
    "name": "ipython",
    "version": 3
   },
   "file_extension": ".py",
   "mimetype": "text/x-python",
   "name": "python",
   "nbconvert_exporter": "python",
   "pygments_lexer": "ipython3",
   "version": "3.11.4"
  }
 },
 "nbformat": 4,
 "nbformat_minor": 5
}
